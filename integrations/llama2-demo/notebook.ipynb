# Notebook for using Llama 2

# To begin, make sure you:
# 1. pip install weaviate-client
# 
