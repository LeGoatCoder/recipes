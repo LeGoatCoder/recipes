{
 "cells": [
  {
   "cell_type": "markdown",
   "metadata": {},
   "source": [
    "# Introduction - RAG with Semantic Kernel\n",
    "\n",
    "This notebook demonstrates a simple workflow of retrieve then generate (RAG) using the `semantic kernel` function library to help with prompt engineering and orchestrating OpenAI API calls and Weaviate as knowledgebase from which to retrieve semantically relevant context. This allows us to not only control what is being generated but also cite sources."
   ]
  },
  {
   "cell_type": "markdown",
   "metadata": {},
   "source": [
    "## Setup"
   ]
  },
  {
   "cell_type": "code",
   "execution_count": null,
   "metadata": {
    "dotnet_interactive": {
     "language": "csharp"
    },
    "polyglot_notebook": {
     "kernelName": "csharp"
    },
    "vscode": {
     "languageId": "polyglot-notebook"
    }
   },
   "outputs": [],
   "source": [
    "#r \"nuget: Microsoft.SemanticKernel, 0.18.230725.3-preview\"\n",
    "#r \"nuget: Microsoft.SemanticKernel.Connectors.Memory.Weaviate, 0.18.230725.3-preview\"\n",
    "\n",
    "// Import necessary libraries\n",
    "using Microsoft.SemanticKernel;\n",
    "using Microsoft.SemanticKernel.Connectors.Memory.Weaviate;\n",
    "using Microsoft.SemanticKernel.Memory;\n",
    "using Microsoft.SemanticKernel.Skills.Core;\n",
    "using Microsoft.SemanticKernel.SkillDefinition;\n",
    "using Microsoft.SemanticKernel.Orchestration;"
   ]
  },
  {
   "cell_type": "markdown",
   "metadata": {},
   "source": [
    "## OS-specific notes:\n",
    "* if you run into SSL errors when connecting to a remote OpenAI on macOS, see this issue for a [potential solution](https://github.com/microsoft/semantic-kernel/issues/627#issuecomment-1580912248)\n",
    "* on Windows, you may need to run Docker Desktop on an elevated level (as administrator)"
   ]
  },
  {
   "cell_type": "code",
   "execution_count": null,
   "metadata": {
    "dotnet_interactive": {
     "language": "csharp"
    },
    "polyglot_notebook": {
     "kernelName": "csharp"
    },
    "vscode": {
     "languageId": "polyglot-notebook"
    }
   },
   "outputs": [],
   "source": [
    "// Set up the API key for Weaviate\n",
    "var apiKey = \"my-secret-key\";\n",
    "\n",
    "// Initialize the Weaviate memory store\n",
    "WeaviateMemoryStore memoryStore = new(\"http://localhost:8080/v1/\", apiKey);"
   ]
  },
  {
   "cell_type": "markdown",
   "metadata": {},
   "source": [
    "Then, we register the memory store to the kernel:"
   ]
  },
  {
   "cell_type": "code",
   "execution_count": null,
   "metadata": {
    "dotnet_interactive": {
     "language": "csharp"
    },
    "polyglot_notebook": {
     "kernelName": "csharp"
    },
    "vscode": {
     "languageId": "polyglot-notebook"
    }
   },
   "outputs": [],
   "source": [
    "// Set up the OpenAI API key\n",
    "string openApiKey = \"\";\n",
    "\n",
    "// Initialize the kernel\n",
    "IKernel kernel = Microsoft.SemanticKernel.Kernel.Builder\n",
    "                       .WithOpenAITextCompletionService(\"text-davinci-003\", openApiKey)\n",
    "                       .WithOpenAITextEmbeddingGenerationService(\"text-embedding-ada-002\", openApiKey)\n",
    "                       .WithMemoryStorage(memoryStore)\n",
    "                       .Build();\n",
    "\n",
    "// Register the memory skill\n",
    "kernel.ImportSkill(new TextMemorySkill(kernel.Memory));"
   ]
  },
  {
   "cell_type": "markdown",
   "metadata": {},
   "source": [
    "## First with no RAG, just Generate:"
   ]
  },
  {
   "cell_type": "code",
   "execution_count": null,
   "metadata": {
    "dotnet_interactive": {
     "language": "csharp"
    },
    "polyglot_notebook": {
     "kernelName": "csharp"
    },
    "vscode": {
     "languageId": "polyglot-notebook"
    }
   },
   "outputs": [],
   "source": [
    "// Create a reusable code block (function) with one input parameter\n",
    "\n",
    "var prompt = @\"You are a friendly and talkative AI. Answer {{$input}}\";\n",
    "var func = kernel.CreateSemanticFunction(prompt);\n",
    "\n",
    "// Invoke the function with a question as input\n",
    "var result = await func.InvokeAsync(\"Do I have pets?\");\n",
    "\n",
    "// Print the result\n",
    "Console
