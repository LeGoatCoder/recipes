# Import necessary libraries
import dspy
from dspy.retrieve.you_rm import YouRM
from dspy.retrieve.weaviate_rm import WeaviateRM
import weaviate

# Initialize OpenAI model
gpt4 = dspy.OpenAI(model="gpt-4", max_tokens=400
