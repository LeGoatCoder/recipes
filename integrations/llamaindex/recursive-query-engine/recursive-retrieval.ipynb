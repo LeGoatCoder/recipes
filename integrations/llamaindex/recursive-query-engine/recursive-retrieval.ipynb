# Install necessary libraries
!pip install weaviate-client llama-index==0.8.10

# Import Weaviate client
import weaviate

# Connect to Weaviate
client = weaviate.Client(
    embedded_options = weaviate.embedded.EmbeddedOptions()
)

# Define schema for Weaviate and HuggingFace blog posts
schema = {
    "classes": [
        {
            "class": "WeaviateBlogPost",
            "description": "Blog post from the Weaviate website.",
            "vectorizer": "text2vec-openai",
            "properties": [
                {
                    "name": "content",
                    "dataType": ["text"],
                    "description": "Content from the blog post."
                }
            ]
        },
        {
            "class": "HuggingFaceBlogPost",
            "description": "Blog post from the HuggingFace website.",
            "vectorizer": "text2vec-openai",
            "properties": [
                {
                    "name": "content",
                    "dataType": ["text"],
                    "description": "Content from the blog post."
                }
            ]
        }
    ]
}

# Create schema in Weaviate
client.schema.create(schema)
print("Schema was created.")

# Load in data from Weaviate and HuggingFace blog posts
from llama_index import download_loader, SimpleWebPageReader
from llama_index.node_parser import SimpleNodeParser
from llama_index.vector_stores import WeaviateVectorStore
from llama_index import VectorStoreIndex
from llama_index.storage.storage_context import StorageContext
import openai

openai.api_key = "sk-key"

SimpleWebPageReader = download_loader("SimpleWebPageReader")

loader = SimpleWebPageReader(html_to_text=True)
WeaviateBlog = loader.load_data(urls=['<https://weaviate.io/blog/pq-rescoring>'])
WeaviateBlog_vector_store = WeaviateVectorStore(weaviate_client=client, index_name="WeaviateBlogPost", text_key="content")
WeaviateBlog_storage_context = StorageContext.from_defaults(vector_store=WeaviateBlog_vector_store)
WeaviateBlogIndex = VectorStoreIndex.from_documents(WeaviateBlog, storage_context=WeaviateBlog_storage_context)

HuggingFaceBlog = loader.load_data(urls=['<https://huggingface.co/blog/ram-efficient-pytorch-fsdp>'])
HuggingFaceBlog_vector_store = WeaviateVectorStore(weaviate_client=client, index_name="HuggingFaceBlogPost", text_key="content")
HuggingFaceBlog_storage_context = StorageContext.from_defaults(vector_store=HuggingFaceBlog_vector_store)
HuggingFaceBlogIndex = VectorStoreIndex.from_documents(HuggingFaceBlog, storage_context=HuggingFaceBlog_storage_context)

# Create index for Weaviate and HuggingFace blog posts
from llama_index.schema import IndexNode

summaries = {
    "Weaviate": "This node provides blog posts from Weaviate, a Vector Database.",
    "HuggingFace": "This node provides blog posts from HuggingFace, tools for training Machine Learning models."
}

df_nodes = [
    IndexNode(text=summaries["Weaviate"], index_id="WeaviateBlogs"),
    IndexNode(text=summaries["HuggingFace"], index_id="HuggingFaceBlogs")
]

WeaviateBlogQueryEngine = WeaviateBlogIndex.as_query_engine()
HuggingFaceBlogQueryEngine = HuggingFaceBlogIndex.as_query_engine()

df_id_query_engine_mapping = {
    "WeaviateBlogs": WeaviateBlogQueryEngine,
    "HuggingFaceBlogs": HuggingFaceBlogQueryEngine
}

Tool_Description_Index = VectorStoreIndex(df_nodes)
Tool_Retriever = Tool_Description_Index.as_retriever(similarity_top_k=1)

# Build recursive retriever
from llama_index.retrievers import RecursiveRetriever
from llama_index.query_engine import RetrieverQueryEngine
from llama_index.response_synthesizers import get_response_synthesizer

recursive_retriever = RecursiveRetriever(
    "vector",
    retriever_dict={"vector": Tool_Retriever},
    query_engine_dict=df_id_query_engine_mapping,
    verbose=True
)

response_synthesizer = get_response_synthesizer(
    response_mode="compact"
)

query_engine = RetrieverQueryEngine.from_args(
    recursive_retriever, response_synthesizer=response_synthesizer
)

# Use the query engine to ask questions
response = query_engine.query("What is Product Quantization?").response
print(response)

response = query_engine.query("What does FSDP do?").response
print(response)
