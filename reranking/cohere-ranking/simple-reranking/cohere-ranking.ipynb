# Import necessary libraries
import weaviate
from weaviate.embedded import EmbeddedOptions

# Initialize Weaviate client with embedded options and additional headers
client = weaviate.Client(
    embedded_options=weaviate.embedded.EmbeddedOptions(),
    additional_headers={
        'X-Cohere-Api-Key': "cohere-key"
    }
)

# Delete all existing schema (CAUTION: THIS WILL DELETE YOUR DATA)
print("embedded weaviate is already listening on port 8079")
client.schema.delete_all()

# Define the schema for BlogPost class
schema = {
    "classes": [
        {
            "class": "BlogPost",
            "description": "Blog post from the Weaviate website.",
            "vectorizer": "text2vec-cohere",
            "vectorIndexConfig": {
                "distance": "dot"
            },
            "moduleConfig": {
                "reranker-cohere": {
                    "model": "rerank-multilingual-v2.0"
                }
            },
            "properties": [
                {
                    "name": "Content",
                    "dataType": ["text"],
                    "description": "Content from the blog post"
                },
                {
                    "name": "URL",
                    "dataType": ["text"],
                    "description": "Title of the blog post"
                }
            ]
        }
    ]
}

# Create the schema
client.schema.create(schema)
print("Schema was created.")

# Define the data to be uploaded
blogs = ['./ranking-models.mdx', './ref2vec-centroid.mdx']
data = {}

# Loop through each file path and read the file
for blog in blogs:
    with open(blog, 'r') as file:
        data[blog] = file.read()

# Manually chunking up the document into smaller chunks
with client.batch as batch:
    for source in data.keys():
        for i in range(0,len(data[source]), 500):
            properties = {
                "source": source,
                "content": data[source][i:i+500]
            }
            batch.add_data_object(
                properties,
                class_name="BlogPost"
            )

# Query without reranking
query = """
{
  Get {
    BlogPost (
      nearText: {
        concepts: "Low hanging fruit to improve relevance"
      }
      limit: 10)
     {
      content
    }
  }
}
"""

# Execute the query
print(client.query.raw(query))

# Run the query again, but rerank the top 10 documents with the text in the content property
query = """
{
  Get {
    BlogPost (
      nearText: {
        concepts: "Low hanging fruit to improve relevance"
      },
      limit: 10)
     {
      content
      _additional {
        rerank(
            property: "content",
            query: "Low hanging fruit to improve relevance"
        ){
          score
        }
      }
    }
  }
}
"""

# Execute the query
print(client.query.raw(query))
