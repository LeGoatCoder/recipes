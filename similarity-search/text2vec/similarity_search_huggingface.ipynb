# Import necessary libraries
import weaviate
import json
import requests

# Install weaviate-client if not already installed
!pip install weaviate-client

# Configure the Weaviate client
client = weaviate.Client(
    url="YOUR-INSTANCE-URL",  # URL of your Weaviate instance
    auth_client_secret=weaviate.AuthApiKey(api_key="AUTH-KEY"),  # (Optional) If the Weaviate instance requires authentication
    additional_headers={
        "X-huggingface-Api-Key": "hf_KEY",  # Replace with your Hugging Face key
    },
)

# Test the connection to the Weaviate instance
client.schema.get()

# Documentation for deploying a model as an endpoint using Hugging Face inference endpoints
print("### For more information on how to deploy your model as an endpoint using the Hugging Face inference endpoints, check out the [documentation](https://weaviate.io/developers/weaviate/modules/retriever-vectorizer-modules/text2vec-huggingface#additional-information)!")

# Define the schema for the JeopardyQuestion class
schema = {
    "classes": [
        {
            "class": "JeopardyQuestion",
            "description": "List of jeopardy questions",
            "vectorizer": "text2vec-huggingface",
            "moduleConfig": {
                "text2vec-huggingface": {
                    "model": "sentence-transformers/all-MiniLM-L6-v2",
                    "options": {
                        "waitForModel": "true",
                        "useGPU": "true",
                        "useCache": "true"
                    }
                }
            },
            "properties": [
                {
                    "name": "Category",
                    "dataType": ["text"],
                    "description": "Category of the question",
                },
                {
                    "name": "Question",
                    "dataType": ["text"],
                    "description": "The question",
                },
                {
                    "name": "Answer",
                    "dataType": ["text"],
                    "description": "The answer",
                }
            ]
        }
    ]
}

# Create the schema in Weaviate
client.schema.create(schema)
print("Successfully created the schema.")

# Import data from a JSON file
url = 'https://raw.githubusercontent.com/weaviate/weaviate-examples/main/jeopardy_small_dataset/jeopardy_tiny.json'
resp = requests.get(url)
data = json.loads(resp.text)

# Batch import data to Weaviate
if client.is_ready():
    with client.batch as batch:
        batch.batch_size=100
        for i, d in enumerate(data):
            print(f"importing question: {i+1}")

            properties = {
                "answer": d["Answer"],
                "question": d["Question"],
                "category": d["Category"],
            }

            client.batch.add_data_object(properties, "JeopardyQuestion")
else:
    print("The Weaviate cluster is not connected.")

# Query Weaviate using nearText, nearObject, and nearVector methods

# nearText Example
# Find a `JeopardyQuestion` about "animals in movies". Limit it to only 2 responses and report the distance.
response = (
    client.query
    .get("JeopardyQuestion", ["question", "answer"])
    .with_near_text({
        "concepts": ["question about animals"]
    }
