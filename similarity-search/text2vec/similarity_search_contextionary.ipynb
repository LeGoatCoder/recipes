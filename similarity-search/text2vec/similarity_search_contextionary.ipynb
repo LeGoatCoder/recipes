{
  "cells": [
    {
      "cell_type": "markdown",
      "metadata": {
        "id": "Xpb01_Mxii2Q"
      },
      "source": [
        "`text2vec-contextionary` is available throguh **Weaviate open-source ONLY**. Meaning, you will need to configure a `docker-compose.yaml` file. \n",
        "\n",
        "Check out [Weaviate's configuration tool](https://weaviate.io/developers/weaviate/installation/docker-compose#configurator) to create one."
      ]
    },
    {
      "cell_type": "markdown",
      "metadata": {
        "id": "Ze5J8E4MWC8g"
      },
      "source": [
        "## Schema"
      ]
    },
    {
      "cell_type": "code",
      "execution_count": null,
      "metadata": {
        "id": "J32wdDCMWCgS"
      },
      "outputs": [],
      "source": [
        "import weaviate # Import the Weaviate library to interact with the Weaviate instance\n",
        "\n",
        "client = weaviate.Client(\"http://localhost:8080\") # connect to your Weaviate instance\n",
        "\n",
        "# resetting the schema. CAUTION: THIS WILL DELETE YOUR DATA \n",
        "client.schema.delete_all()\n",
        "\n",
        "schema = {\n",
        "   \"classes\": [\n",
        "       {\n",
        "           \"class\": \"JeopardyQuestion\", # Define a new class called JeopardyQuestion\n",
        "           \"description\": \"List of jeopardy questions\",\n",
        "           \"moduleConfig\": { # configure the vectorizer\n",
        "               \"text2vec-contextionary\": { \n",
        "                    \"vectorizeClassName\": \"false\"\n",
        "                }\n",
        "           },\n",
        "           \"properties\": [\n",
        "               {\n",
        "                   \"name\": \"Category\",\n",
        "                   \"dataType\": [\"text\"],\n",
        "                   \"description\": \"Category of the question\",\n",
        "               },\n",
        "               {\n",
        "                \"name\": \"Question\",\n",
        "                \"dataType\": [\"text\"],\n",
        "                \"description\": \"The question\",\n",
        "               },\n",
        "               {\n",
        "                   \"name\": \"Answer\",\n",
        "                   \"dataType\": [\"text\"],\n",
        "                   \"description\": \"The answer\",\n",
        "                }\n",
        "            ]\n",
        "        }\n",
        "    ]\n",
        "}\n",
        "\n",
        "client.schema.create(schema)\n",
        "\n",
        "print(\"Successfully created the schema.\")"
      ]
    },
    {
      "cell_type": "markdown",
      "metadata": {
        "id": "bjcuCEcCXlRK"
      },
      "source": [
        "## Import the Data"
      ]
    },
    {
      "cell_type": "code",
      "execution_count": null,
      "metadata": {
        "id": "paWgPOGsa_NV"
      },
      "outputs": [],
      "source": [
        "import requests\n",
        "url = 'https://raw.githubusercontent.com/weaviate/weaviate-examples/main/jeopardy_small_dataset/jeopardy_tiny.json
