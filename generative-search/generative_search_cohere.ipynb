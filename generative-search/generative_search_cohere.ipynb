{
  "nbformat": 4,
  "nbformat_minor": 0,
  "metadata": {
    "colab": {
      "provenance": []
    },
    "kernelspec": {
      "name": "python3",
      "display_name": "Python 3"
    },
    "language_info": {
      "name": "python"
    }
  },
  "cells": [
    {
      "cell_type": "markdown",
      "source": [
        "## Dependencies"
      ],
      "metadata": {
        "id": "rJD9aP9eVcsT"
      }
    },
    {
      "cell_type": "code",
      "execution_count": null,
      "metadata": {
        "id": "ReE5TWeXSDTe"
      },
      "outputs": [],
      "source": [
        "!pip install weaviate-client  # Install Weaviate client library"
      ]
    },
    {
      "cell_type": "markdown",
      "source": [
        "## Configuration"
      ],
      "metadata": {
        "id": "p9Mkfza_SFKM"
      }
    },
    {
      "cell_type": "code",
      "source": [
        "import weaviate  # Import Weaviate client library\n",
        "import json\n",
        "\n",
        "client = weaviate.Client(\n",
        "  url=\"WEAVIATE-INSTANCE-URL\",  # URL of your Weaviate instance\n",
        "  auth_client_secret=weaviate.AuthApiKey(api_key=\"AUTH-KEY\"), # (Optional) If the Weaviate instance requires authentication\n",
        "  additional_headers={\n",
        "    \"X-Cohere-Api-Key\": \"Cohere-API-KEY\", # Replace with your Cohere key\n",
        "  }\n",
        ")\n",
        "\n",
        "client.schema.get()  # Get the schema to test connection"
      ],
      "metadata": {
        "id": "fn9Pbq7mSGqN"
      },
      "execution_count": null,
      "outputs": []
    },
    {
      "cell_type": "markdown",
      "source": [
        "## Schema"
      ],
      "metadata": {
        "id": "jL7QiiDjTjwl"
      }
    },
    {
      "cell_type": "code",
      "source": [
        "# resetting the schema. CAUTION: THIS WILL DELETE YOUR DATA \n",
        "client.schema.delete_all()\n",
        "\n",
        "schema = {\n",
        "   \"classes\": [\n",
        "       {\n",
        "           \"class\": \"JeopardyQuestion\",\n",
        "           \"description\": \"List of jeopardy questions\",\n",
        "           \"vectorizer\": \"text2vec-cohere\",\n",
        "           \"moduleConfig\": { # specify the model you want to use\n",
        "               \"generative-cohere\": { \n",
        "                    \"model\": \"command-xlarge-nightly\"  # Optional - Defaults to `command-xlarge-nightly`. Can also use`command-xlarge-beta` and `command-xlarge`\n",
        "                }\n",
        "           },\n",
        "           \"properties\": [\n",
        "               {\n",
        "                  \"name\": \"Category\",\n",
        "                  \"dataType\": [\"text\"],\n",
        "                  \"description\": \"Category of the question\",\n",
        "               },\n",
        "               {\n",
        "                  \"name\": \"Question\",
