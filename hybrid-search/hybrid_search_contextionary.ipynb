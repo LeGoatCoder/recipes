{
  "nbformat": 4,
  "nbformat_minor": 0,
  "metadata": {
    "colab": {
      "provenance": []
    },
    "kernelspec": {
      "name": "python3",
      "display_name": "Python 3"
    },
    "language_info": {
      "name": "python"
    }
  },
  "cells": [
    {
      "cell_type": "markdown",
      "source": [
        "`text2vec-contextionary` is available throguh **Weaviate open-source ONLY**. Meaning, you will need to configure a `docker-compose.yaml` file. \n",
        "\n",
        "Check out [Weaviate's configuration tool](https://weaviate.io/developers/weaviate/installation/docker-compose#configurator) to create one."
      ],
      "metadata": {
        "id": "Xpb01_Mxii2Q"
      }
    },
    {
      "cell_type": "markdown",
      "source": [
        "## Schema"
      ],
      "metadata": {
        "id": "Ze5J8E4MWC8g"
      }
    },
    {
      "cell_type": "code",
      "source": [
        "import weaviate  # Import the Weaviate client library\n",
        "\n",
        "client = weaviate.Client(\"http://localhost:8080\")  # Connect to the Weaviate instance running on localhost\n",
        "\n",
        "# The following line deletes all classes and their data from the schema. \n",
        "# Use with caution, as it will delete all your data.\n",
        "client.schema.delete_all()\n",
        "\n",
        "schema = {\n",
        "   \"classes\": [\n",
        "       {\n",
        "           # Define a new class named 'JeopardyQuestion'\n",
        "           \"class\": \"JeopardyQuestion\",\n",
        "           \"description\": \"List of jeopardy questions\",\n",
        "           \"moduleConfig\": {  # Configure the vectorizer\n",
        "               \"text2vec-contextionary\": { \n",
        "                    \"vectorizeClassName\": \"false\"\n",
        "                }\n",
        "           },\n",
        "           \"properties\": [\n",
        "               {\n",
        "                   \"name\": \"Category\",\n",
        "                   \"dataType\": [\"text\"],\n",
        "                   \"description\": \"Category of the question\",\n",
        "               },\n",
        "               {\n",
        "                \"name\": \"Question\",\n",
        "                \"dataType\": [\"text\"],\n",
        "                \"description\": \"The question\",\n",
        "               },\n",
        "               {\n",
        "                   \"name\": \"Answer\",\n",
        "                   \"dataType\": [\"text\"],\n",
        "                   \"description\": \"The answer\",\n",
        "                }\n",
        "            ]\n",
        "        }\n",
        "    ]\n",
        "}\n",
        "\n",
        "client.schema.create(schema)  # Create the schema\n",
        "\n",
        "print(\"Successfully created the schema.\")"
      ],
      "metadata": {
        "id": "J32wdDCMWCgS"
      },
      "execution_count": null,
      "outputs": []
    },
    {
      "cell_type": "markdown",
      "source": [
        "## Import the Data"
      ],
      "metadata": {
        "id": "bjcuCEcCXlRK"
      }
    },
    {
      "cell_type": "code",
      "source": [
        "import requests\n",
        "import json  # Import the json module to parse the downloaded data\n",
        "\n",
        "url = 'https://raw.githubusercontent.com/weaviate/weaviate-examples/main/jeopardy_small_dataset/jeopardy_tiny.json'  # URL of the dataset\n",
        "resp = requests.get(url)  # Download the dataset\n",
        "data = json.loads(resp.text)  # Parse the downloaded data\n",
        "\n",
        "if client.is_ready():  # Check if the Weaviate cluster is connected\n",
        "\n",
        "# Configure a batch process\n",
        "  with client.batch as batch:\n",
        "      batch.batch_size=100  # Set the batch size\n",
        "\n",
        "# Batch import all Questions\n",
        "      for i, d in enumerate(data):\n",
        "          print(f\"importing question: {i+1}\")\n",
        "\n",
        "          properties = {\n",
        "              \"answer\": d[\"Answer\"],\n",
        "              \"question\": d[\"Question\"],\n",
        "              \"category\": d[\"Category\"],\n",
        "          }\n",
        "\n",
        "          client.batch.add_data_object(properties, \"JeopardyQuestion\")  # Add the data object to the batch\n",
        "else:\n",
        "  print(\"The Weaviate cluster is not connected.\")"
      ],
      "metadata": {
        "id": "paWgPOGsa_NV"
      },
      "execution_count": null,
      "outputs": []
    },
    {
      "cell_type": "markdown",
      "source": [
        "## Hybrid Search"

