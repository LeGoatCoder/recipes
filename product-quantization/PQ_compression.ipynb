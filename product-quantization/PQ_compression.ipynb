# Import necessary libraries
import requests
import json
import os

# Connect to a Weaviate instance and create a Schema
import weaviate
from weaviate import EmbeddedOptions

client = weaviate.Client(
    url="http://localhost:8080/",  # Replace with your endpoint
    additional_headers={
        "X-OpenAI-Api-Key": os.getenv("OPENAI_API_KEY")  # Replace with your inference API key
    },
)

# Check if the Weaviate instance is ready
print(client.is_ready())

# Define the class for adding data
class_definition = {
    "class": "Question",
    "vectorizer": "text2vec-openai",
    "vectorIndexConfig": {"distance": "cosine"},
    "properties": [
        {"name": "question", "dataType": ["text"]},
        {"name": "answer", "dataType": ["text"]},
        {"name": "round", "dataType": ["text"]},
    ],
}

# Create the Schema
client.schema.create_class(class_definition)

# Download the data
resp = requests.get("https://raw.githubusercontent.com/weaviate-tutorials/intro-workshop/main/data/jeopardy_1k.json")
data = json.loads(resp.text)  # Load data

# Insert the data into Weaviate
with client.batch() as batch:
    for o in data:
        obj_body = {
            "question": o["Question"],
            "answer": o["Answer"],
            "round": o["Round"],
        }

        batch.add_data_object(
            data_object=obj_body,
            class_name="Question"
        )

# Check the number of objects in the 'Question' class
print(json.dumps(client.query.aggregate("Question").with_meta_count().do(), indent=2))

# Perform a vector search
response = (client.query
            .get("Question", ['question','answer'])
            .with_near_text({"concepts":"spicy food recipes"})
            .with_additional(['distance'])
            .with_limit(2)
            .do()
)

print(json.dumps(response, indent=2))

# Update the Schema to enable PQ
client.schema.update_config("Question", {
    "vectorIndexConfig": {
        "pq": {
            "enabled": True,         # Enable PQ
            "trainingLimit": 100000, # If not set, will default to up to the first 100k vectors added to Weaviate
            "segments": 96 # Number of segments to break/quantize the vector representation into - has to be an integer multiple of vector dimension
        }
    }
})

# Re-run the same vector search now on PQ compressed vectors
response = (client.query
            .get("Question", ['question','answer'])
            .with_near_text({"concepts":"spicy food recipes"})
            .with_additional(['distance'])
            .with_limit(2)
            .do()
)

print(json.dumps(response, indent=2))
