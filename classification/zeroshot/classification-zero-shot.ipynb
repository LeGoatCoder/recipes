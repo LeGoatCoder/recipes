# Simple Zero Shot Classification Example
# ----------------------------------------
# 
# We are going to automatically classify a support `Ticket` with a `Category`.
# 
# First, let's spin up both Weaviate and a transformers-inference model inference
# 
# > docker compose up -d

# Define the tickets and categories data
tickets = [
    {"body": "I cannot connect to the internet", "id":1},
    {"body": "I wat to put some text in a paper", "id":2},
    {"body": "My computer is slow, I cannot turn it on", "id":3},
    {"body": "I want to create some spreadsheets, but I cannot open the program", "id":4},
]

categories = [
    "Network",
    "Printing",
    "Hardware",
    "Software",
]

# Define the classes for Weaviate
category_class = {
    "class": 'Category',
    "description": 'support ticket', 
    "properties": [
        {
            "dataType": [ 'text'],
            "description": 'name of category',
            "name": 'name',
        }
    ]
}

ticket_class = {
    "class": 'Ticket',
    "description": 'support ticket', 
    "properties": [
        {
            "name": 'body',
            "description": 'ticket text',
            "dataType": [ 'text'],
        },
        {
            "name": 'ticket_id',
            "description": 'ticket id',
            "dataType": [ 'number'],
        },
        {
            "name": 'category',
            "description": 'ticket topic',
            "dataType": [category_class["class"]],
        }
    ]
}

# Connect to Weaviate and clear the classes
import weaviate
client = weaviate.Client("http://localhost:8080")
client.schema.delete_all()

# Create the classes before hand
if not client.schema.exists(category_class["class"]):
    client.schema.create_class(category_class)

if not client.schema.exists(ticket_class["class"]):
    client.schema.create_class(ticket_class)

# Add categories and tickets to Weaviate
print("#### ADDING CATEGORIES")
client.batch.configure(batch_size=100)  # Configure batch
with client.batch as batch:
    for category in categories:
        cat_id = batch.add_data_object({"name": category}, category_class["class"], weaviate.util.generate_uuid5(category))
        print(category, cat_id)

print("#### ADDING TICKETS")
client.batch.configure(batch_size=100)  # Configure batch
with client.batch as batch:
    for ticket in tickets:
        ticket_id = batch.add_data_object(
            {
                "body": ticket["body"],
                "ticket_id": ticket["id"],
                "category": None,
            },
            ticket_class["class"],
            weaviate.util.generate_uuid5(ticket["id"]),
        )
        print(ticket, ticket_id)

# Schedule the classification
client.classification.schedule()\
    .with_type("zeroshot")\
    .with_class_name(ticket_class["class"])\
    .with_classify_properties(["category"])\
    .with_based_on_properties(["body"])\
    .do()

# Get the classified tickets
results = client.query.get(ticket_class["class"], "body category{ ... on Category{name}}").do()
for ticket in results["data"]["Get"]["Ticket"]:
    print("#" * 10)
    print("Ticket:", ticket["body"])
    print("Category: ", ticket["category"][0]["name"])
