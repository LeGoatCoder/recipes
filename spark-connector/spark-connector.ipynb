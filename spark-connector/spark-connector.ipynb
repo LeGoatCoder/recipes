{
 "cells": [
  {
   "cell_type": "markdown",
   "id": "3d310b37-3f67-45cb-aec6-61a39f6071d8",
   "metadata": {},
   "source": [
    "# ⚡ Using the Spark Connector for Weaviate\n",
    "Welcome to this recipe notebook! \n",
    "\n",
    "In this notebook, we will walk you through a small example of how to take data from a Spark DataFrame and feed it into Weaviate.\n",
    "\n",
    "## Virtual Environment and Dependencies\n",
    "To ensure smooth execution and prevent potential conflicts with your global Python environment, we recommend running the code in a virtual environment. Later in this notebook, we'll guide you through setting up this environment and installing the necessary dependencies.\n",
    "\n",
    "### Dependencies\n",
    "Before proceeding with the notebook content, it's essential to set up an isolated Python environment. This helps avoid any potential package conflicts and ensures that you have a clean workspace.\n",
    "\n",
    "**You will also need Java 8+ and Scala 2.12 installed.**\n",
    "\n",
    "### Virtual Environment Setup:\n",
    "If you haven't created a virtual environment before, here's how you can do it:\n",
    "\n",
    "Using `virtualenv`:\n",
    "```bash\n",
    "pip install virtualenv\n",
    "python -m virtualenv venv\n",
    "```\n",
    "\n",
    "Using `venv` (built-in with Python 3.3+):\n",
    "\n",
    "```bash\n",
    "python -m venv venv\n",
    "```\n",
    "\n",
    "After creating the virtual environment, you need to activate it:\n",
    "\n",
    "Windows:\n",
    "```bash\n",
    ".\\venv\\Scripts\\activate\n",
    "```\n",
    "macOS and Linux:\n",
    "```bash\n",
    "source venv/bin/activate\n",
    "```\n",
    "\n",
    "### Installing Dependencies:\n",
    "With the virtual environment active, run the following code to install all the required dependencies for this notebook:\n",
    "\n",
    "**Please note that you will also need Java 8+ and Scala 2.12 installed.**"
   ]
  },
  {
   "cell_type": "code",
   "execution_count": null,
   "id": "b3507021-a97e-49fd-b02d-37f87eef8699",
   "metadata": {},
   "outputs": [],
   "source": [
    "!python -m pip install weaviate-client==3.25.3, pyspark==3.5.0"
   ]
  },
  {
   "cell_type": "markdown",
   "id": "45a0deb5-aebc-495b-ad48-ce7e61d20ecf",
   "metadata": {},
   "source": [
    "## Obtain the JAR File that is used to build the Spark Connector\n",
    "\n",
    "You can obtain the latest JAR file at this [link](https://github.com/weaviate/spark-connector/releases/latest). Download and place the JAR file in this repository."
   ]
  },
  {
   "cell_type": "markdown",
   "id": "cb1e2ebb-ec6b-4fa1-ba46-c430628a6196",
   "metadata": {},
   "source": [
    "## Start the Spark Session"
   ]
  },
  {
   "cell_type": "code",
   "execution_count": 1,
   "id": "9
